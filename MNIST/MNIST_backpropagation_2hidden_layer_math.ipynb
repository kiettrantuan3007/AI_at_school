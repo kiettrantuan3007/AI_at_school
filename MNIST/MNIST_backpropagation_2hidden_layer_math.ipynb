{
  "nbformat": 4,
  "nbformat_minor": 0,
  "metadata": {
    "colab": {
      "provenance": [],
      "authorship_tag": "ABX9TyNp1pllXRsYttSOUYPh097L",
      "include_colab_link": true
    },
    "kernelspec": {
      "name": "python3",
      "display_name": "Python 3"
    },
    "language_info": {
      "name": "python"
    }
  },
  "cells": [
    {
      "cell_type": "markdown",
      "metadata": {
        "id": "view-in-github",
        "colab_type": "text"
      },
      "source": [
        "<a href=\"https://colab.research.google.com/github/kiettrantuan3007/AI_at_school/blob/main/MNIST/MNIST_backpropagation_2hidden_layer_math.ipynb\" target=\"_parent\"><img src=\"https://colab.research.google.com/assets/colab-badge.svg\" alt=\"Open In Colab\"/></a>"
      ]
    },
    {
      "cell_type": "code",
      "execution_count": null,
      "metadata": {
        "id": "HB10KklnUSpt",
        "colab": {
          "base_uri": "https://localhost:8080/"
        },
        "outputId": "fb4024e2-b7ee-4dc1-a643-59c264d52fa7"
      },
      "outputs": [
        {
          "output_type": "stream",
          "name": "stdout",
          "text": [
            "Looking in indexes: https://pypi.org/simple, https://us-python.pkg.dev/colab-wheels/public/simple/\n",
            "Requirement already satisfied: numpy in /usr/local/lib/python3.9/dist-packages (1.22.4)\n",
            "Looking in indexes: https://pypi.org/simple, https://us-python.pkg.dev/colab-wheels/public/simple/\n",
            "Requirement already satisfied: ipython in /usr/local/lib/python3.9/dist-packages (7.9.0)\n",
            "Requirement already satisfied: pygments in /usr/local/lib/python3.9/dist-packages (from ipython) (2.14.0)\n",
            "Requirement already satisfied: pexpect in /usr/local/lib/python3.9/dist-packages (from ipython) (4.8.0)\n",
            "Requirement already satisfied: backcall in /usr/local/lib/python3.9/dist-packages (from ipython) (0.2.0)\n",
            "Requirement already satisfied: traitlets>=4.2 in /usr/local/lib/python3.9/dist-packages (from ipython) (5.7.1)\n",
            "Requirement already satisfied: pickleshare in /usr/local/lib/python3.9/dist-packages (from ipython) (0.7.5)\n",
            "Requirement already satisfied: prompt-toolkit<2.1.0,>=2.0.0 in /usr/local/lib/python3.9/dist-packages (from ipython) (2.0.10)\n",
            "Collecting jedi>=0.10\n",
            "  Downloading jedi-0.18.2-py2.py3-none-any.whl (1.6 MB)\n",
            "\u001b[2K     \u001b[90m━━━━━━━━━━━━━━━━━━━━━━━━━━━━━━━━━━━━━━━━\u001b[0m \u001b[32m1.6/1.6 MB\u001b[0m \u001b[31m18.8 MB/s\u001b[0m eta \u001b[36m0:00:00\u001b[0m\n",
            "\u001b[?25hRequirement already satisfied: setuptools>=18.5 in /usr/local/lib/python3.9/dist-packages (from ipython) (67.6.0)\n",
            "Requirement already satisfied: decorator in /usr/local/lib/python3.9/dist-packages (from ipython) (4.4.2)\n",
            "Requirement already satisfied: parso<0.9.0,>=0.8.0 in /usr/local/lib/python3.9/dist-packages (from jedi>=0.10->ipython) (0.8.3)\n",
            "Requirement already satisfied: wcwidth in /usr/local/lib/python3.9/dist-packages (from prompt-toolkit<2.1.0,>=2.0.0->ipython) (0.2.6)\n",
            "Requirement already satisfied: six>=1.9.0 in /usr/local/lib/python3.9/dist-packages (from prompt-toolkit<2.1.0,>=2.0.0->ipython) (1.16.0)\n",
            "Requirement already satisfied: ptyprocess>=0.5 in /usr/local/lib/python3.9/dist-packages (from pexpect->ipython) (0.7.0)\n",
            "Installing collected packages: jedi\n",
            "Successfully installed jedi-0.18.2\n"
          ]
        }
      ],
      "source": [
        "!pip install numpy\n",
        "!pip install ipython\n"
      ]
    },
    {
      "cell_type": "code",
      "source": [
        "import numpy as np\n",
        "import tensorflow as tf\n",
        "import matplotlib.pyplot as plt\n"
      ],
      "metadata": {
        "id": "xqtPHIbiVGu_"
      },
      "execution_count": 1,
      "outputs": []
    },
    {
      "cell_type": "code",
      "source": [
        "mnist = tf.keras.datasets.mnist\n",
        "(x_train, y_train), (x_test, y_test) = mnist.load_data()"
      ],
      "metadata": {
        "id": "mU0RnjCzVJQU",
        "colab": {
          "base_uri": "https://localhost:8080/"
        },
        "outputId": "32ea4fa6-96c5-4e47-8f6f-c7d0119fe482"
      },
      "execution_count": 2,
      "outputs": [
        {
          "output_type": "stream",
          "name": "stdout",
          "text": [
            "Downloading data from https://storage.googleapis.com/tensorflow/tf-keras-datasets/mnist.npz\n",
            "11490434/11490434 [==============================] - 0s 0us/step\n"
          ]
        }
      ]
    },
    {
      "cell_type": "code",
      "source": [
        "# label store as the value of output \n",
        "y_train"
      ],
      "metadata": {
        "colab": {
          "base_uri": "https://localhost:8080/"
        },
        "id": "NVcB5JKjXAUd",
        "outputId": "151d056a-dcea-4323-c3c4-d1d3c66fc492"
      },
      "execution_count": 3,
      "outputs": [
        {
          "output_type": "execute_result",
          "data": {
            "text/plain": [
              "array([5, 0, 4, ..., 5, 6, 8], dtype=uint8)"
            ]
          },
          "metadata": {},
          "execution_count": 3
        }
      ]
    },
    {
      "cell_type": "code",
      "source": [
        "# normallize the input\n",
        "\n",
        "x_train = np.reshape(x_train, (60000, 784))/255.0\n",
        "x_test = np.reshape(x_test, (10000, 784))/255.0\n",
        "\n",
        "# convert the value of label to the argmax array by np.eye\n",
        "\n",
        "y_train = np.matrix(np.eye(10)[y_train])\n",
        "y_test = np.matrix(np.eye(10)[y_test])\n"
      ],
      "metadata": {
        "id": "7PGZZJFQVVtV"
      },
      "execution_count": 4,
      "outputs": []
    },
    {
      "cell_type": "code",
      "source": [
        "#define the function \n",
        "# 1. mean this is a matrix with full 1\n",
        "def sigmoid(x):\n",
        "  return 1./(1.+np.exp(-x))\n",
        "def softmax(x):\n",
        "  return np.divide(np.matrix(np.exp(x)), np.mat(np.sum(np.exp(x), axis=1)))\n",
        "def relu(x):\n",
        "  return np.maximum(x, 0)\n",
        "def gradient_relu(x):\n",
        "  temp = x\n",
        "  temp[temp>=0] = 1\n",
        "  temp[temp<0] = 0\n",
        "  return temp"
      ],
      "metadata": {
        "id": "FePJkkUKXTIa"
      },
      "execution_count": 5,
      "outputs": []
    },
    {
      "cell_type": "code",
      "source": [
        "def Forwardpass2HiddenLayer(X, Wh1, bh1, Wh2, bh2, Wo, bo):\n",
        "  zh1 = X@Wh1.T + bh1\n",
        "  a1 = relu(zh1)\n",
        "  zh2 = a1@Wh2.T + bh2\n",
        "  a2 = sigmoid(zh2)\n",
        "  z = a2@Wo.T+bo\n",
        "  o=softmax(z)\n",
        "  return o"
      ],
      "metadata": {
        "id": "XHQk5BvNX0hK"
      },
      "execution_count": 6,
      "outputs": []
    },
    {
      "cell_type": "code",
      "source": [
        "def Forwardpass(X,Wh,bh,Wo,bo):\n",
        "  zh= X@Wh.T+ bh\n",
        "  a = sigmoid(zh)\n",
        "  z=a@Wo.T+ bo\n",
        "  o = softmax(z)\n",
        "  return o"
      ],
      "metadata": {
        "id": "lPkK1I3TkAgE"
      },
      "execution_count": 7,
      "outputs": []
    },
    {
      "cell_type": "code",
      "source": [
        "# np.argmax return the index of maximum value in the nparray, to convert the softmax array back to value \n",
        "\n",
        "def AccTest(label, prediction):\n",
        "  OutMaxArg=np.argmax(prediction, axis=1)\n",
        "  LabelMaxArg=np.argmax(label, axis=1)\n",
        "  Accuracy=np.mean(OutMaxArg==LabelMaxArg)\n",
        "  return Accuracy"
      ],
      "metadata": {
        "id": "glkLAL8oYN7D"
      },
      "execution_count": 8,
      "outputs": []
    },
    {
      "cell_type": "code",
      "source": [
        "learningRate = 0.1\n",
        "epoch = 50\n",
        "NumTrainSamples = 60000\n",
        "NumTestSamples = 10000\n",
        "\n",
        "NumInput = 784\n",
        "NumHidden_1_Unit = 512\n",
        "NumHidden_2_Unit = 512\n",
        "NumClasses = 10\n",
        "\n",
        "# initial the input-hidden\n",
        "# np.random.uniform(a,b,(sizeX, sizeY)) to random number from a to b with the sizeXY\n",
        "Wh1 = np.matrix(np.random.uniform(-0.5, 0.5, (NumHidden_1_Unit, NumInput)))\n",
        "bh1 = np.random.uniform(0, 0.5, (1, NumHidden_1_Unit))\n",
        "# initial the value of derivative (or gradient)\n",
        "dWh1 = np.zeros((NumHidden_1_Unit, NumInput))\n",
        "dbh1 = np.zeros((1, NumHidden_1_Unit))\n",
        "\n",
        "Wh2 = np.matrix(np.random.uniform(-0.5, 0.5, (NumHidden_2_Unit, NumHidden_1_Unit)))\n",
        "bh2 = np.random.uniform(0, 0.5, (1, NumHidden_2_Unit))\n",
        "# initial the value of derivative (or gradient)\n",
        "dWh2 = np.zeros((NumHidden_2_Unit, NumHidden_1_Unit))\n",
        "dbh2 = np.zeros((1, NumHidden_2_Unit))\n",
        "\n",
        "\n",
        "# the same with the hidden-output layer\n",
        "# np.random.uniform(a,b,(sizeX, sizeY)) to random number from a to b with the sizeXY\n",
        "Wo = np.matrix(np.random.uniform(-0.5, 0.5, (NumClasses, NumHidden_2_Unit)))\n",
        "bo = np.random.uniform(0, 0.5, (1, NumClasses))\n",
        "# initial the value of derivative (or gradient)\n",
        "dWo = np.zeros((NumClasses, NumHidden_2_Unit))\n",
        "dbo = np.zeros((1, NumClasses))"
      ],
      "metadata": {
        "id": "6tzqCZDuY7iO"
      },
      "execution_count": 18,
      "outputs": []
    },
    {
      "cell_type": "code",
      "source": [
        "from IPython.display import clear_output\n",
        "loss = []\n",
        "Acc = []\n",
        "for ep in range(epoch):\n",
        "#feed fordwarepropagation\n",
        "  x = x_train\n",
        "  y = y_train\n",
        "\n",
        "  zh1 = x@Wh1.T + bh1\n",
        "  a1 = relu(zh1)\n",
        "  zh2 = a1@Wh2.T + bh2\n",
        "  a2 = sigmoid(zh2)\n",
        "  z = a2@Wo.T+bo\n",
        "  o=softmax(z)\n",
        "  #calculate loss\n",
        "  loss.append(-np.sum(np.multiply(y,np.log10(o))))\n",
        "  #calculate the error for the ouputlayer\n",
        "  d2 = o-y\n",
        "  #Back propagate error\n",
        "  dh2 = d2@Wo\n",
        "  dhs2= np.multiply(np.multiply(dh2,a2),(1-a2))\n",
        "\n",
        "  dh1 = dhs2@Wh2\n",
        "  dhs1= np.multiply(dh1, gradient_relu(a1))\n",
        "  #update weight\n",
        "  dWo= np.matmul(np.transpose(d2),a2)\n",
        "  dbo= np.mean(d2) # consider a is 1 for bias\n",
        "  dWh2= np.matmul(np.transpose(dhs2),a1)\n",
        "  dbh2= np.mean(dhs1) # consider a is 1 for bias\n",
        "  dWh1= np.matmul(np.transpose(dhs1),x)\n",
        "  dbh1= np.mean(dhs2) # consider a is 1 for bias\n",
        "  Wo =Wo -learningRate*dWo/NumTrainSamples\n",
        "  bo=bo-learningRate*dbo\n",
        "  Wh2=Wh2-learningRate*dWh2/NumTrainSamples\n",
        "  bh2=bh2-learningRate*dbh2\n",
        "  Wh1=Wh1-learningRate*dWh1/NumTrainSamples\n",
        "  bh1=bh1-learningRate*dbh1\n",
        "  #Test accuracy with random innitialweights\n",
        "  # prediction = Forwardpass(x_test,Wh,bh,Wo,bo)\n",
        "  prediction = Forwardpass2HiddenLayer(x_test,Wh1,bh1,Wh2, bh2, Wo,bo)\n",
        "  Acc.append(AccTest(y_test,prediction))\n",
        "  clear_output(wait=True)\n",
        "  plt.plot([i for i, _ in enumerate(Acc)],Acc,'o')\n",
        "  plt.show()\n",
        "  "
      ],
      "metadata": {
        "colab": {
          "base_uri": "https://localhost:8080/",
          "height": 606
        },
        "id": "rDAmGWA2b843",
        "outputId": "ac4704c2-5591-434d-dea4-697e097ca500"
      },
      "execution_count": null,
      "outputs": [
        {
          "output_type": "display_data",
          "data": {
            "text/plain": [
              "<Figure size 432x288 with 1 Axes>"
            ],
            "image/png": "[encoded data removed]"
          },
          "metadata": {
            "needs_background": "light"
          }
        },
        {
          "output_type": "error",
          "ename": "KeyboardInterrupt",
          "evalue": "ignored",
          "traceback": [
            "\u001b[0;31m---------------------------------------------------------------------------\u001b[0m",
            "\u001b[0;31mKeyboardInterrupt\u001b[0m                         Traceback (most recent call last)",
            "\u001b[0;32m<ipython-input-11-272b9eb15773>\u001b[0m in \u001b[0;36m<module>\u001b[0;34m\u001b[0m\n\u001b[1;32m     28\u001b[0m   \u001b[0mdWh2\u001b[0m\u001b[0;34m=\u001b[0m \u001b[0mnp\u001b[0m\u001b[0;34m.\u001b[0m\u001b[0mmatmul\u001b[0m\u001b[0;34m(\u001b[0m\u001b[0mnp\u001b[0m\u001b[0;34m.\u001b[0m\u001b[0mtranspose\u001b[0m\u001b[0;34m(\u001b[0m\u001b[0mdhs2\u001b[0m\u001b[0;34m)\u001b[0m\u001b[0;34m,\u001b[0m\u001b[0ma1\u001b[0m\u001b[0;34m)\u001b[0m\u001b[0;34m\u001b[0m\u001b[0;34m\u001b[0m\u001b[0m\n\u001b[1;32m     29\u001b[0m   \u001b[0mdbh2\u001b[0m\u001b[0;34m=\u001b[0m \u001b[0mnp\u001b[0m\u001b[0;34m.\u001b[0m\u001b[0mmean\u001b[0m\u001b[0;34m(\u001b[0m\u001b[0mdhs1\u001b[0m\u001b[0;34m)\u001b[0m \u001b[0;31m# consider a is 1 for bias\u001b[0m\u001b[0;34m\u001b[0m\u001b[0;34m\u001b[0m\u001b[0m\n\u001b[0;32m---> 30\u001b[0;31m   \u001b[0mdWh1\u001b[0m\u001b[0;34m=\u001b[0m \u001b[0mnp\u001b[0m\u001b[0;34m.\u001b[0m\u001b[0mmatmul\u001b[0m\u001b[0;34m(\u001b[0m\u001b[0mnp\u001b[0m\u001b[0;34m.\u001b[0m\u001b[0mtranspose\u001b[0m\u001b[0;34m(\u001b[0m\u001b[0mdhs1\u001b[0m\u001b[0;34m)\u001b[0m\u001b[0;34m,\u001b[0m\u001b[0mx\u001b[0m\u001b[0;34m)\u001b[0m\u001b[0;34m\u001b[0m\u001b[0;34m\u001b[0m\u001b[0m\n\u001b[0m\u001b[1;32m     31\u001b[0m   \u001b[0mdbh1\u001b[0m\u001b[0;34m=\u001b[0m \u001b[0mnp\u001b[0m\u001b[0;34m.\u001b[0m\u001b[0mmean\u001b[0m\u001b[0;34m(\u001b[0m\u001b[0mdhs2\u001b[0m\u001b[0;34m)\u001b[0m \u001b[0;31m# consider a is 1 for bias\u001b[0m\u001b[0;34m\u001b[0m\u001b[0;34m\u001b[0m\u001b[0m\n\u001b[1;32m     32\u001b[0m   \u001b[0mWo\u001b[0m \u001b[0;34m=\u001b[0m\u001b[0mWo\u001b[0m \u001b[0;34m-\u001b[0m\u001b[0mlearningRate\u001b[0m\u001b[0;34m*\u001b[0m\u001b[0mdWo\u001b[0m\u001b[0;34m/\u001b[0m\u001b[0mNumTrainSamples\u001b[0m\u001b[0;34m\u001b[0m\u001b[0;34m\u001b[0m\u001b[0m\n",
            "\u001b[0;32m/usr/local/lib/python3.9/dist-packages/numpy/matrixlib/defmatrix.py\u001b[0m in \u001b[0;36m__array_finalize__\u001b[0;34m(self, obj)\u001b[0m\n\u001b[1;32m    165\u001b[0m         \u001b[0;32mreturn\u001b[0m \u001b[0mret\u001b[0m\u001b[0;34m\u001b[0m\u001b[0;34m\u001b[0m\u001b[0m\n\u001b[1;32m    166\u001b[0m \u001b[0;34m\u001b[0m\u001b[0m\n\u001b[0;32m--> 167\u001b[0;31m     \u001b[0;32mdef\u001b[0m \u001b[0m__array_finalize__\u001b[0m\u001b[0;34m(\u001b[0m\u001b[0mself\u001b[0m\u001b[0;34m,\u001b[0m \u001b[0mobj\u001b[0m\u001b[0;34m)\u001b[0m\u001b[0;34m:\u001b[0m\u001b[0;34m\u001b[0m\u001b[0;34m\u001b[0m\u001b[0m\n\u001b[0m\u001b[1;32m    168\u001b[0m         \u001b[0mself\u001b[0m\u001b[0;34m.\u001b[0m\u001b[0m_getitem\u001b[0m \u001b[0;34m=\u001b[0m \u001b[0;32mFalse\u001b[0m\u001b[0;34m\u001b[0m\u001b[0;34m\u001b[0m\u001b[0m\n\u001b[1;32m    169\u001b[0m         \u001b[0;32mif\u001b[0m \u001b[0;34m(\u001b[0m\u001b[0misinstance\u001b[0m\u001b[0;34m(\u001b[0m\u001b[0mobj\u001b[0m\u001b[0;34m,\u001b[0m \u001b[0mmatrix\u001b[0m\u001b[0;34m)\u001b[0m \u001b[0;32mand\u001b[0m \u001b[0mobj\u001b[0m\u001b[0;34m.\u001b[0m\u001b[0m_getitem\u001b[0m\u001b[0;34m)\u001b[0m\u001b[0;34m:\u001b[0m \u001b[0;32mreturn\u001b[0m\u001b[0;34m\u001b[0m\u001b[0;34m\u001b[0m\u001b[0m\n",
            "\u001b[0;31mKeyboardInterrupt\u001b[0m: "
          ]
        }
      ]
    },
    {
      "cell_type": "code",
      "source": [
        "prediction = Forwardpass2HiddenLayer(x_test,Wh1,bh1,Wh2, bh2, Wo,bo)\n",
        "Rate = AccTest(y_test, prediction)\n",
        "print(Rate)"
      ],
      "metadata": {
        "id": "nISBJrtmqq6A"
      },
      "execution_count": null,
      "outputs": []
    },
    {
      "cell_type": "code",
      "source": [
        "epoch = 15\n",
        "\n",
        "loss = []\n",
        "Acc= []\n",
        "AccNoMomentum =[]\n",
        "Batch_size= 200\n",
        "Stochastic_samples= np.arange(NumTrainSamples)\n",
        "for ep in range(epoch):\n",
        "  np.random.shuffle(Stochastic_samples)\n",
        "  for ite in range(0,NumTrainSamples,Batch_size):\n",
        "  #feed fordwarepropagation\n",
        "    Batch_samples= Stochastic_samples[ite:ite+Batch_size]\n",
        "    x = x_train[Batch_samples,:]\n",
        "    y = y_train[Batch_samples,:]\n",
        "    zh1 = x@Wh1.T + bh1\n",
        "    a1 = relu(zh1)\n",
        "    zh2 = a1@Wh2.T + bh2\n",
        "    a2 = sigmoid(zh2)\n",
        "    z = a2@Wo.T+bo\n",
        "    o=softmax(z)\n",
        "    #calculate loss\n",
        "    loss.append(-np.sum(np.multiply(y,np.log10(o))))\n",
        "    #calculate the error for the ouputlayer\n",
        "    d2 = o-y\n",
        "    #Back propagate error\n",
        "    dh2 = d2@Wo\n",
        "    dhs2= np.multiply(np.multiply(dh2,a2),(1-a2))\n",
        "\n",
        "    dh1 = dhs2@Wh2\n",
        "    dhs1= np.multiply(dh1, gradient_relu(a1))\n",
        "    #update weight\n",
        "\n",
        "    dWo= np.matmul(np.transpose(d2),a2)\n",
        "    dbo= np.mean(d2) # consider a is 1 for bias\n",
        "    dWh2= np.matmul(np.transpose(dhs2),a1)\n",
        "    dbh2= np.mean(dhs1) # consider a is 1 for bias\n",
        "    dWh1= np.matmul(np.transpose(dhs1),x)\n",
        "    dbh1= np.mean(dhs2) # consider a is 1 for bias\n",
        "\n",
        "\n",
        "    Wo =Wo -learningRate*dWo/Batch_size\n",
        "    bo=bo-learningRate*dbo\n",
        "    Wh2=Wh2-learningRate*dWh2/Batch_size\n",
        "    bh2=bh2-learningRate*dbh2\n",
        "    Wh1=Wh1-learningRate*dWh1/Batch_size\n",
        "    bh1=bh1-learningRate*dbh1\n",
        "\n",
        "\n",
        "    \n",
        "    #Test accuracy with random innitial weights\n",
        "  prediction = Forwardpass2HiddenLayer(x_test,Wh1,bh1,Wh2, bh2, Wo,bo)\n",
        "  Acc.append(AccTest(y_test,prediction))\n",
        "  print('Epoch:', ep )\n",
        "  print('Accuracy:',AccTest(y_test,prediction) )\n",
        "  clear_output(wait=True)\n",
        "  plt.plot([i for i, _ in enumerate(Acc)],Acc,'o')\n",
        "  plt.show()\n"
      ],
      "metadata": {
        "id": "VdfIpvzcdq9T",
        "colab": {
          "base_uri": "https://localhost:8080/",
          "height": 265
        },
        "outputId": "243f6e08-ed7b-4b11-f0ab-9eb287442a08"
      },
      "execution_count": 19,
      "outputs": [
        {
          "output_type": "display_data",
          "data": {
            "text/plain": [
              "<Figure size 432x288 with 1 Axes>"
            ],
            "image/png": "[encoded data removed]"
          },
          "metadata": {
            "needs_background": "light"
          }
        }
      ]
    },
    {
      "cell_type": "code",
      "source": [
        "Wo.astype('float16').tofile('wo.txt')"
      ],
      "metadata": {
        "id": "hb9gea-o7Q6u"
      },
      "execution_count": null,
      "outputs": []
    }
  ]
}